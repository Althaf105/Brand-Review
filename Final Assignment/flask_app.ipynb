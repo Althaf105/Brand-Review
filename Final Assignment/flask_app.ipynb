{
 "cells": [
  {
   "cell_type": "markdown",
   "metadata": {},
   "source": [
    "# Import Packages"
   ]
  },
  {
   "cell_type": "code",
   "execution_count": 1,
   "metadata": {},
   "outputs": [
    {
     "name": "stderr",
     "output_type": "stream",
     "text": [
      "[nltk_data] Downloading package stopwords to\n",
      "[nltk_data]     C:\\Users\\altha\\AppData\\Roaming\\nltk_data...\n",
      "[nltk_data]   Package stopwords is already up-to-date!\n",
      "[nltk_data] Downloading package punkt to\n",
      "[nltk_data]     C:\\Users\\altha\\AppData\\Roaming\\nltk_data...\n",
      "[nltk_data]   Package punkt is already up-to-date!\n",
      "[nltk_data] Downloading package stopwords to\n",
      "[nltk_data]     C:\\Users\\altha\\AppData\\Roaming\\nltk_data...\n",
      "[nltk_data]   Package stopwords is already up-to-date!\n",
      "[nltk_data] Downloading package punkt to\n",
      "[nltk_data]     C:\\Users\\altha\\AppData\\Roaming\\nltk_data...\n",
      "[nltk_data]   Package punkt is already up-to-date!\n"
     ]
    },
    {
     "name": "stdout",
     "output_type": "stream",
     "text": [
      "Index(['Brand', 'Review'], dtype='object')\n"
     ]
    }
   ],
   "source": [
    "from flask import *\n",
    "import csv\n",
    "import pandas as pd\n",
    "from pandas import ExcelWriter\n",
    "from pandas import ExcelFile\n",
    "import nltk\n",
    "nltk.download('stopwords')\n",
    "nltk.download('punkt')\n",
    "from nltk.tokenize import word_tokenize \n",
    "from nltk.corpus import stopwords \n",
    "from textblob import TextBlob\n",
    "from matplotlib import pyplot as plt\n",
    "import matplotlib.pyplot as plt\n",
    "from collections import Counter\n",
    "from matplotlib import cm\n",
    "import shutil\n",
    "from Sentiment_Analysis_sdm import *"
   ]
  },
  {
   "cell_type": "markdown",
   "metadata": {},
   "source": [
    "# Flask Application "
   ]
  },
  {
   "cell_type": "code",
   "execution_count": 23,
   "metadata": {},
   "outputs": [
    {
     "name": "stdout",
     "output_type": "stream",
     "text": [
      " * Serving Flask app \"__main__\" (lazy loading)\n",
      " * Environment: production\n",
      "   WARNING: This is a development server. Do not use it in a production deployment.\n",
      "   Use a production WSGI server instead.\n",
      " * Debug mode: off\n"
     ]
    },
    {
     "name": "stderr",
     "output_type": "stream",
     "text": [
      " * Running on http://127.0.0.1:5000/ (Press CTRL+C to quit)\n",
      "127.0.0.1 - - [03/Aug/2020 09:59:24] \"\u001b[37mGET / HTTP/1.1\u001b[0m\" 200 -\n",
      "127.0.0.1 - - [03/Aug/2020 09:59:24] \"\u001b[33mGET /styles.css HTTP/1.1\u001b[0m\" 404 -\n",
      "127.0.0.1 - - [03/Aug/2020 09:59:26] \"\u001b[37mPOST /Dashboard HTTP/1.1\u001b[0m\" 200 -\n",
      "127.0.0.1 - - [03/Aug/2020 09:59:26] \"\u001b[33mGET /static/ HTTP/1.1\u001b[0m\" 404 -\n",
      "127.0.0.1 - - [03/Aug/2020 09:59:26] \"\u001b[33mGET /styles.css HTTP/1.1\u001b[0m\" 404 -\n"
     ]
    },
    {
     "name": "stdout",
     "output_type": "stream",
     "text": [
      "in dashboard function\n",
      "here\n",
      "2.png\n"
     ]
    },
    {
     "name": "stderr",
     "output_type": "stream",
     "text": [
      "127.0.0.1 - - [03/Aug/2020 09:59:38] \"\u001b[37mPOST /sdm HTTP/1.1\u001b[0m\" 200 -\n",
      "127.0.0.1 - - [03/Aug/2020 09:59:39] \"\u001b[33mGET /styles.css HTTP/1.1\u001b[0m\" 404 -\n",
      "127.0.0.1 - - [03/Aug/2020 09:59:39] \"\u001b[37mGET /static/2.png HTTP/1.1\u001b[0m\" 200 -\n",
      "127.0.0.1 - - [03/Aug/2020 09:59:39] \"\u001b[37mGET /static/Nike.png HTTP/1.1\u001b[0m\" 200 -\n"
     ]
    },
    {
     "name": "stdout",
     "output_type": "stream",
     "text": [
      "\tNike: 99.91%\n",
      "C:/Users/altha/althaf_docs/Sem 2/Social Data Mining Techniques/Final Assignment/2.png\n",
      "in sdm function\n"
     ]
    }
   ],
   "source": [
    "\n",
    "app = Flask(__name__)\n",
    "\n",
    "\n",
    "@app.route('/')\n",
    "def hello():\n",
    "    return render_template('Home.html')\n",
    "@app.route(\"/Dashboard\", methods=['POST','GET'])\n",
    "def Dashboard():\n",
    "    print(\"in dashboard function\")\n",
    "    return render_template(\"Dashboard.html\")\n",
    "\n",
    "@app.route(\"/sdm\", methods=['POST','GET'])\n",
    "def sdm():\n",
    "    \n",
    "    from azure.cognitiveservices.vision.customvision.prediction import CustomVisionPredictionClient\n",
    "    from msrest.authentication import ApiKeyCredentials\n",
    "    from azure.cognitiveservices.vision.customvision.training import CustomVisionTrainingClient\n",
    "    from azure.cognitiveservices.vision.customvision.training.models import ImageFileCreateBatch, ImageFileCreateEntry\n",
    "\n",
    "    ENDPOINT = \"XXXXXXXXXXXXXXXXX\"\n",
    "    \n",
    "    training_key = \"XXXXXXXXXXXXXXXx\"\n",
    "    prediction_key = \"XXXXXXXXXXXXXXXXX\"\n",
    "    prediction_resource_id = \"XXXXXXXXXXXXX\"\n",
    "    \n",
    "    publish_iteration_name = \"classifyModel\"\n",
    "\n",
    "    credentials = ApiKeyCredentials(in_headers={\"Training-key\": training_key})\n",
    "    trainer = CustomVisionTrainingClient(ENDPOINT, credentials)\n",
    "    \n",
    "    # Now there is a trained endpoint that can be used to make a prediction\n",
    "    prediction_credentials = ApiKeyCredentials(in_headers={\"Prediction-key\": prediction_key})\n",
    "    predictor = CustomVisionPredictionClient(ENDPOINT, prediction_credentials)\n",
    "\n",
    "    project = trainer.get_project(\"611bc936-654c-4a48-82e9-703ed40708a7\")\n",
    "    \n",
    "    if request.method=='POST':\n",
    "        print(\"here\")\n",
    "        try:\n",
    "            file = request.form[\"file\"]\n",
    "            print(file)\n",
    "        except Exception as e:\n",
    "            print(e)\n",
    "            pass\n",
    "    \n",
    "    with open(file, \"rb\") as image_contents:\n",
    "        results = predictor.classify_image(\n",
    "            project.id, publish_iteration_name, image_contents.read())\n",
    "        \n",
    "        print(\"\\t\" + results.predictions[0].tag_name +\n",
    "              \": {0:.2f}%\".format(results.predictions[0].probability * 100))\n",
    "        \n",
    "        predicted_class = results.predictions[0].tag_name\n",
    "        predicted_prob = results.predictions[0].probability * 100\n",
    "    path_to_file = \"C:/Users/altha/althaf_docs/Sem 2/Social Data Mining Techniques/Final Assignment/\"+file\n",
    "    print(path_to_file)\n",
    "    print(\"in sdm function\")\n",
    "    \n",
    "    \n",
    "    shutil.copy(file, r\"C:\\Users\\altha\\althaf_docs\\Sem 2\\Social Data Mining Techniques\\Final Assignment\\static\")\n",
    "    \n",
    "    #sentiment analysis\n",
    "    df = pd.read_csv(\"Sentiment_Analysis.csv\",encoding=\"cp1252\")\n",
    "    df = df.dropna()\n",
    "    \n",
    "    if predicted_class == \"Adidas\":\n",
    "        Desc = \"Adidas AG is a multinational corporation, founded and headquartered in Herzogenaurach, Germany, that designs and manufactures shoes, clothing and accessories. It is the largest sportswear manufacturer in Europe, and the second largest in the world, after Nike. \"\n",
    "        result_df = df[df['Brand']==\"Adidas\"][['Review','Sentiments','Polarity']]\n",
    "        result_df = result_df.reset_index()[['Review','Sentiments','Polarity']]\n",
    "        image = \"Adidas.png\"\n",
    "      \n",
    "    elif predicted_class ==\"Nike\":\n",
    "        Desc = \"Nike, Inc. is an American multinational corporation that is engaged in the design, development, manufacturing, and worldwide marketing and sales of footwear, apparel, equipment, accessories, and services. The company is headquartered near Beaverton, Oregon, in the Portland metropolitan area.\"\n",
    "        result_df = df[df['Brand']==\"Nike\"][['Review','Sentiments','Polarity']]\n",
    "        result_df = result_df.reset_index()[['Review','Sentiments','Polarity']]\n",
    "        image = \"Nike.png\"\n",
    "        \n",
    "    else:\n",
    "        Desc = \"Puma SE, branded as Puma, is a German multinational corporation that designs and manufactures athletic and casual footwear, apparel and accessories, which is headquartered in Herzogenaurach, Bavaria, Germany. Puma is the third largest sportswear manufacturer in the world.\"\n",
    "        result_df = df[df['Brand']==\"puma\"][['Review','Sentiments','Polarity']]\n",
    "        result_df = result_df.reset_index()[['Review','Sentiments','Polarity']]\n",
    "        image = \"Puma.png\"\n",
    "        \n",
    "    return render_template(\"Dashboard.html\",predicted_class=predicted_class,predicted_prob = predicted_prob,file=file,tables=[result_df.to_html(classes='data')],titles = result_df.columns.values,image=image,Desc = Desc)\n",
    "\n",
    "if __name__ == '__main__':\n",
    "    app.run()"
   ]
  },
  {
   "cell_type": "code",
   "execution_count": null,
   "metadata": {},
   "outputs": [],
   "source": []
  },
  {
   "cell_type": "code",
   "execution_count": null,
   "metadata": {},
   "outputs": [],
   "source": [
    "df = pd.read_csv(\"Sentiment_Analysis.csv\",encoding=\"cp1252\")\n",
    "df =df.reset_index(drop=True)\n",
    "df\n"
   ]
  },
  {
   "cell_type": "code",
   "execution_count": null,
   "metadata": {},
   "outputs": [],
   "source": [
    "df = df.dropna()"
   ]
  },
  {
   "cell_type": "code",
   "execution_count": null,
   "metadata": {},
   "outputs": [],
   "source": [
    "puma_df = df[df['Brand']==\"puma\"][['Review','Sentiments','Polarity']]\n",
    "adidas_df = df[df['Brand']==\"Adidas\"][['Review','Sentiments','Polarity']]\n",
    "nike_df = df[df['Brand']==\"Nike\"][['Review','Sentiments','Polarity']]"
   ]
  },
  {
   "cell_type": "code",
   "execution_count": null,
   "metadata": {},
   "outputs": [],
   "source": [
    "adidas_df.reset_index()[['Review','Sentiments','Polarity']]"
   ]
  },
  {
   "cell_type": "code",
   "execution_count": null,
   "metadata": {},
   "outputs": [],
   "source": []
  }
 ],
 "metadata": {
  "kernelspec": {
   "display_name": "Python 3",
   "language": "python",
   "name": "python3"
  },
  "language_info": {
   "codemirror_mode": {
    "name": "ipython",
    "version": 3
   },
   "file_extension": ".py",
   "mimetype": "text/x-python",
   "name": "python",
   "nbconvert_exporter": "python",
   "pygments_lexer": "ipython3",
   "version": "3.7.4"
  }
 },
 "nbformat": 4,
 "nbformat_minor": 4
}
